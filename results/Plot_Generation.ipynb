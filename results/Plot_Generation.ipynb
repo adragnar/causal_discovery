{
 "cells": [
  {
   "cell_type": "code",
   "execution_count": null,
   "metadata": {},
   "outputs": [],
   "source": [
    "import pandas as pd \n",
    "import os \n",
    "from os.path import join\n",
    "from collections import Counter\n",
    "\n",
    "import matplotlib.pyplot as plt \n",
    "plt.rcParams['figure.figsize'] = [6, 4]\n",
    "\n",
    "import sys\n",
    "basedir = '/Users/RobertAdragna/Documents/School/Fourth_Year/ESC499-Thesis/codebases/causal_discovery'\n",
    "sys.path.append(basedir)"
   ]
  },
  {
   "cell_type": "code",
   "execution_count": null,
   "metadata": {},
   "outputs": [],
   "source": [
    "def order_cols(cols):\n",
    "    '''Order columns pulled from dataframe in the desired order of display'''\n",
    "    for c in cols: \n",
    "        if c == 'TestSet':\n",
    "            n0 = c\n",
    "        if ('ACC' in c) and ('train' in c):\n",
    "            n1 = c  \n",
    "        if ('ACC' in c) and ('test' in c):\n",
    "            n2 = c  \n",
    "        if ('DP' in c) and ('train' in c):\n",
    "            n3 = c\n",
    "        if ('DP' in c) and ('test' in c):\n",
    "            n4 = c\n",
    "            \n",
    "    return [n0, n1, n2, n3, n4]"
   ]
  },
  {
   "cell_type": "code",
   "execution_count": null,
   "metadata": {},
   "outputs": [],
   "source": [
    "def fname_2_algo(n):\n",
    "    if 'irm_results' in n:\n",
    "        return 'irm'\n",
    "    if 'linear-irm_results' in n:\n",
    "        return 'linear-irm'\n",
    "    if 'icp_results' in n:\n",
    "        return 'icp'\n",
    "    if 'logreg_results' in n:\n",
    "        return 'logreg'\n",
    "    if 'linreg_results' in n:\n",
    "        return 'linreg' \n",
    "    if 'mlp_results' in n:\n",
    "        return 'mlp'\n",
    "    if 'constant_results' in n:\n",
    "        return 'constant' \n",
    "\n",
    "#Generate relevant files \n",
    "expdir = '0610_baseline_adultgerman/testing'\n",
    "\n",
    "rel_files = []\n",
    "for rdir in os.listdir(expdir):\n",
    "    if os.path.isdir(join(expdir, rdir)):\n",
    "        assert rdir in ['irm', 'linear-irm', 'icp', 'linreg', 'logreg', 'mlp', 'constant']\n",
    "        rel_files.append(join(join(join(expdir, rdir), 'analysis'), '{}_results.xlsx'.format(rdir)))\n",
    "\n",
    "#Collect relevant dataframe of each experiment run \n",
    "data_store = {}\n",
    "for f in rel_files:  \n",
    "    res = pd.read_excel(f, index_col=0, header=0)\n",
    "    algo = fname_2_algo(f)\n",
    "    rel_cols = [c for c in res.columns if (\"ACC\" in c) or (\"DP\" in c) or (c == \"TestSet\")]\n",
    "    rel_cols = order_cols(rel_cols)\n",
    "    data = res[rel_cols]\n",
    "    \n",
    "#     #Make corrections for formatting of fairness in prior data\n",
    "#     f_cols = [c for c in rel_cols if 'DP' in c]\n",
    "#     data[f_cols].apply(lambda x: x.split(':'))\n",
    "    \n",
    "    data_store[algo] = data\n",
    "\n",
    "#Do any processing of internal entries inside the dataframe     \n",
    "# import pdb; pdb.set_trace()\n",
    "#Get final df tables by context variable \n",
    "context_name = 'TestSet'\n",
    "context_vals = ['workclass_DUMmY', 'native-country_DUMmY', 'relationship_DUMmY', 'Purpose_DUMmY', 'Housing_DUMmY']\n",
    "final_colnames = ['algo', 'training_loss', 'testing_loss', 'training_fairness', 'testing_fairness']\n",
    "\n",
    "context_store = {c:[] for c in context_vals}\n",
    "for al, df in data_store.items():\n",
    "    assert Counter(context_vals) == Counter(list(df[context_name]))  #Make one of each context in results\n",
    "    for resid, row in df.iterrows():\n",
    "        c = row[context_name]\n",
    "        v = row.drop(context_name).values ; v = np.insert(v, 0, al)\n",
    "        context_store[c].append(v)\n",
    "context_store = {k:pd.DataFrame(v, columns=final_colnames) for k,v in context_store.items()}\n"
   ]
  },
  {
   "cell_type": "code",
   "execution_count": null,
   "metadata": {},
   "outputs": [],
   "source": [
    "##Aggregating relevant columns \n",
    "adult_keys = ['workclass_DUMmY', 'native-country_DUMmY', 'relationship_DUMmY']\n",
    "german_keys = ['Housing_DUMmY', 'Purpose_DUMmY']\n",
    "\n",
    "agg_context_store = {'adult':[], 'german':[]}\n",
    "for c, df in context_store.items():  #Sort into appropiate buckets\n",
    "    if c in adult_keys:\n",
    "        agg_context_store['adult'].append(df)\n",
    "    elif c in german_keys:\n",
    "        agg_context_store['german'].append(df)\n",
    "\n",
    "method_id = 'algo'\n",
    "for c in agg_context_store.keys():\n",
    "    to_agg = agg_context_store[c]\n",
    "    agg_context_store[c] = pd.concat(to_agg)\n",
    "    agg_context_store[c] = agg_context_store[c].groupby(method_id)['training_loss', \\\n",
    "                                                'testing_loss', 'training_fairness', 'testing_fairness'].mean()\n",
    "    \n",
    "    agg_context_store[c] = agg_context_store[c].plot.bar(rot=15, title=c) "
   ]
  },
  {
   "cell_type": "code",
   "execution_count": null,
   "metadata": {},
   "outputs": [],
   "source": [
    "##Note - this is formatting contingent on the plots you want to save \n",
    "\n",
    "results_dir = join(expdir, 'final_results')\n",
    "if not os.path.exists(results_dir):\n",
    "    os.mkdir(results_dir)\n",
    "\n",
    "for k, v in context_store.items():\n",
    "    v.to_latex(join(results_dir, '{}_merge_results.tex'.format(k)), caption=k)\n",
    "    \n",
    "for k, v in agg_context_store.items():\n",
    "    fig = v.get_figure()\n",
    "    fig.savefig(join(results_dir, '{}_merge_results.png'.format(k)))"
   ]
  },
  {
   "cell_type": "code",
   "execution_count": null,
   "metadata": {},
   "outputs": [],
   "source": []
  },
  {
   "cell_type": "code",
   "execution_count": null,
   "metadata": {},
   "outputs": [],
   "source": []
  },
  {
   "cell_type": "code",
   "execution_count": null,
   "metadata": {},
   "outputs": [],
   "source": []
  }
 ],
 "metadata": {
  "hide_input": false,
  "kernelspec": {
   "display_name": "Python 3",
   "language": "python",
   "name": "python3"
  },
  "language_info": {
   "codemirror_mode": {
    "name": "ipython",
    "version": 3
   },
   "file_extension": ".py",
   "mimetype": "text/x-python",
   "name": "python",
   "nbconvert_exporter": "python",
   "pygments_lexer": "ipython3",
   "version": "3.7.3"
  },
  "toc": {
   "base_numbering": 1,
   "nav_menu": {},
   "number_sections": true,
   "sideBar": true,
   "skip_h1_title": false,
   "title_cell": "Table of Contents",
   "title_sidebar": "Contents",
   "toc_cell": false,
   "toc_position": {},
   "toc_section_display": true,
   "toc_window_display": false
  },
  "varInspector": {
   "cols": {
    "lenName": 16,
    "lenType": 16,
    "lenVar": 40
   },
   "kernels_config": {
    "python": {
     "delete_cmd_postfix": "",
     "delete_cmd_prefix": "del ",
     "library": "var_list.py",
     "varRefreshCmd": "print(var_dic_list())"
    },
    "r": {
     "delete_cmd_postfix": ") ",
     "delete_cmd_prefix": "rm(",
     "library": "var_list.r",
     "varRefreshCmd": "cat(var_dic_list()) "
    }
   },
   "types_to_exclude": [
    "module",
    "function",
    "builtin_function_or_method",
    "instance",
    "_Feature"
   ],
   "window_display": false
  }
 },
 "nbformat": 4,
 "nbformat_minor": 2
}
